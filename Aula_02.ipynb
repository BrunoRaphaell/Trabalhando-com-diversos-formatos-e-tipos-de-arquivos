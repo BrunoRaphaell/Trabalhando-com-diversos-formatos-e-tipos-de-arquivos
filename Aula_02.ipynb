{
 "cells": [
  {
   "cell_type": "code",
   "execution_count": null,
   "metadata": {},
   "outputs": [],
   "source": [
    "display(dbutils.fs.ls(\"/FileStore/tables/\"))"
   ]
  },
  {
   "cell_type": "code",
   "execution_count": null,
   "metadata": {},
   "outputs": [],
   "source": [
    "dbutils.fs.mkdirs(\"/FileStore/tables/arquivos_curso\")"
   ]
  },
  {
   "cell_type": "code",
   "execution_count": null,
   "metadata": {},
   "outputs": [],
   "source": [
    "display(dbutils.fs.ls(\"/FileStore/tables/arquivos_curso\"))"
   ]
  },
  {
   "attachments": {},
   "cell_type": "markdown",
   "metadata": {},
   "source": [
    "# JSON"
   ]
  },
  {
   "attachments": {},
   "cell_type": "markdown",
   "metadata": {},
   "source": [
    "## Lendo um arquivo JSON"
   ]
  },
  {
   "cell_type": "code",
   "execution_count": null,
   "metadata": {},
   "outputs": [],
   "source": [
    "df = spark.read.json(\"/FileStore/tables/arquivos_curso/PNSB.json\")\n",
    "display(df)"
   ]
  },
  {
   "cell_type": "code",
   "execution_count": null,
   "metadata": {},
   "outputs": [],
   "source": [
    "df = df.withColumnRenamed(\"D1C\",\"cod_regiao\") \\\n",
    "       .withColumnRenamed(\"D1N\",\"regiao\") \\\n",
    "       .withColumnRenamed(\"D2C\",\"cod_variavel\") \\\n",
    "       .withColumnRenamed(\"D2N\",\"variavel\") \\\n",
    "       .withColumnRenamed(\"D3C\",\"cod_ano\") \\\n",
    "       .withColumnRenamed(\"D3N\",\"ano\") \\\n",
    "       .withColumnRenamed(\"D4C\",\"cod_doenca\") \\\n",
    "       .withColumnRenamed(\"D4N\",\"doenca\") \\\n",
    "       .withColumnRenamed(\"MC\",\"cod_medida\") \\\n",
    "       .withColumnRenamed(\"MN\",\"medida\") \\\n",
    "       .withColumnRenamed(\"NC\",\"cod_nivel_territorial\") \\\n",
    "       .withColumnRenamed(\"NN\",\"nivel_territorial\") \\\n",
    "       .withColumnRenamed(\"V\",\"valor\") \n",
    "\n",
    "\n",
    "display(df)"
   ]
  },
  {
   "cell_type": "code",
   "execution_count": null,
   "metadata": {},
   "outputs": [],
   "source": [
    "df = df.filter(df.valor!='Valor')\n",
    "display(df)"
   ]
  },
  {
   "cell_type": "code",
   "execution_count": null,
   "metadata": {},
   "outputs": [],
   "source": [
    "df.printSchema()"
   ]
  },
  {
   "cell_type": "code",
   "execution_count": null,
   "metadata": {},
   "outputs": [],
   "source": [
    "from pyspark.sql.functions import col\n",
    "from pyspark.sql.types import IntegerType\n",
    "\n",
    "df_new = df.withColumn(\"cod_regiao\", col(\"cod_regiao\").cast(IntegerType())) \\\n",
    "           .withColumn(\"cod_variavel\", col(\"cod_variavel\").cast(IntegerType())) \\\n",
    "           .withColumn(\"cod_ano\", col(\"cod_ano\").cast(IntegerType())) \\\n",
    "           .withColumn(\"ano\", col(\"ano\").cast(IntegerType())) \\\n",
    "           .withColumn(\"cod_doenca\", col(\"cod_doenca\").cast(IntegerType())) \\\n",
    "           .withColumn(\"cod_medida\", col(\"cod_medida\").cast(IntegerType())) \\\n",
    "           .withColumn(\"cod_nivel_territorial\", col(\"cod_nivel_territorial\").cast(IntegerType())) \\\n",
    "           .withColumn(\"valor\", col(\"valor\").cast(IntegerType()))"
   ]
  },
  {
   "cell_type": "code",
   "execution_count": null,
   "metadata": {},
   "outputs": [],
   "source": [
    "df_new.printSchema()"
   ]
  },
  {
   "attachments": {},
   "cell_type": "markdown",
   "metadata": {},
   "source": [
    "## Escrevendo um arquivo JSON"
   ]
  },
  {
   "cell_type": "code",
   "execution_count": null,
   "metadata": {},
   "outputs": [],
   "source": [
    "display(dbutils.fs.ls(\"/FileStore/tables/arquivos_curso\"))"
   ]
  },
  {
   "cell_type": "code",
   "execution_count": null,
   "metadata": {},
   "outputs": [],
   "source": [
    "df_new.write\\\n",
    "    .option(\"compression\", \"gzip\")\\\n",
    "    .mode(\"overwrite\") \\\n",
    "    .format(\"json\") \\\n",
    "    .save(\"/FileStore/tables/arquivos_curso/json_gzip/\")"
   ]
  },
  {
   "cell_type": "code",
   "execution_count": null,
   "metadata": {},
   "outputs": [],
   "source": [
    "df = spark.read \\\n",
    "  .option(\"compression\", \"gzip\") \\\n",
    "  .json(\"/FileStore/tables/arquivos_curso/json_gzip/\")\n",
    "\n",
    "display(df)"
   ]
  },
  {
   "cell_type": "code",
   "execution_count": null,
   "metadata": {},
   "outputs": [],
   "source": [
    "df.write \\\n",
    "  .option(\"sep\", \",\") \\\n",
    "  .format(\"csv\") \\\n",
    "  .save(\"/FileStore/tables/arquivos_curso/pnsb_csv/\")"
   ]
  },
  {
   "cell_type": "code",
   "execution_count": null,
   "metadata": {},
   "outputs": [],
   "source": [
    "display(dbutils.fs.ls(\"/FileStore/tables/arquivos_curso/pnsb_csv\"))"
   ]
  },
  {
   "attachments": {},
   "cell_type": "markdown",
   "metadata": {},
   "source": [
    "# CSV"
   ]
  },
  {
   "attachments": {},
   "cell_type": "markdown",
   "metadata": {},
   "source": [
    "## Lendo um arquivo CSV"
   ]
  },
  {
   "cell_type": "code",
   "execution_count": null,
   "metadata": {},
   "outputs": [],
   "source": [
    "df_csv = spark.read.csv('/FileStore/tables/arquivos_curso/pnsb_csv')\n",
    "display(df_csv)"
   ]
  },
  {
   "cell_type": "code",
   "execution_count": null,
   "metadata": {},
   "outputs": [],
   "source": [
    "df.write \\\n",
    "  .option(\"sep\", \",\") \\\n",
    "  .option(\"header\", True) \\\n",
    "  .mode(\"overwrite\") \\\n",
    "  .format(\"csv\") \\\n",
    "  .save(\"/FileStore/tables/arquivos_curso/pnsb_csv/\")"
   ]
  },
  {
   "cell_type": "code",
   "execution_count": null,
   "metadata": {},
   "outputs": [],
   "source": [
    "df_csv = spark.read.csv('/FileStore/tables/arquivos_curso/pnsb_csv', header=True, inferSchema=True)\n",
    "display(df_csv)"
   ]
  },
  {
   "cell_type": "code",
   "execution_count": null,
   "metadata": {},
   "outputs": [],
   "source": [
    "df_csv.printSchema()"
   ]
  }
 ],
 "metadata": {
  "kernelspec": {
   "display_name": "base",
   "language": "python",
   "name": "python3"
  },
  "language_info": {
   "codemirror_mode": {
    "name": "ipython",
    "version": 3
   },
   "file_extension": ".py",
   "mimetype": "text/x-python",
   "name": "python",
   "nbconvert_exporter": "python",
   "pygments_lexer": "ipython3",
   "version": "3.9.12 (main, Apr  4 2022, 05:22:27) [MSC v.1916 64 bit (AMD64)]"
  },
  "orig_nbformat": 4,
  "vscode": {
   "interpreter": {
    "hash": "59b23a439ce858f6c48b87cdc3961c05fe34c6c004d414990b7e953144d53d79"
   }
  }
 },
 "nbformat": 4,
 "nbformat_minor": 2
}
